{
 "cells": [
  {
   "cell_type": "code",
   "execution_count": 30,
   "metadata": {},
   "outputs": [
    {
     "name": "stdout",
     "output_type": "stream",
     "text": [
      "Collecting faiss-cpu\n",
      "  Using cached faiss_cpu-1.10.0-cp312-cp312-macosx_11_0_arm64.whl.metadata (4.4 kB)\n",
      "Requirement already satisfied: numpy<3.0,>=1.25.0 in /opt/anaconda3/lib/python3.12/site-packages (from faiss-cpu) (1.26.4)\n",
      "Requirement already satisfied: packaging in /opt/anaconda3/lib/python3.12/site-packages (from faiss-cpu) (24.1)\n",
      "Using cached faiss_cpu-1.10.0-cp312-cp312-macosx_11_0_arm64.whl (3.2 MB)\n",
      "Installing collected packages: faiss-cpu\n",
      "Successfully installed faiss-cpu-1.10.0\n",
      "Note: you may need to restart the kernel to use updated packages.\n"
     ]
    }
   ],
   "source": [
    "%pip install faiss-cpu"
   ]
  },
  {
   "cell_type": "code",
   "execution_count": 1,
   "metadata": {
    "jupyter": {
     "is_executing": true
    }
   },
   "outputs": [],
   "source": [
    "from langchain_core.documents import Document\n",
    "from langchain_community.vectorstores import FAISS\n",
    "from langchain_experimental.open_clip import OpenCLIPEmbeddings\n",
    "import glob\n",
    "import base64\n",
    "\n",
    "paths = glob.glob('../images/*.jpeg', recursive=True)"
   ]
  },
  {
   "cell_type": "code",
   "execution_count": 2,
   "metadata": {},
   "outputs": [],
   "source": [
    "lc_docs = []\n",
    "def encode_image(path):\n",
    "    with open(path, \"rb\") as image_file:\n",
    "        return base64.b64encode(image_file.read()).decode(\"utf-8\")\n",
    "\n",
    "for path in paths:\n",
    "    doc = Document(\n",
    "        page_content=encode_image(path),\n",
    "        metadata ={\n",
    "            'source': path\n",
    "        }\n",
    "    )\n",
    "    lc_docs.append(doc)"
   ]
  },
  {
   "cell_type": "code",
   "execution_count": 3,
   "metadata": {},
   "outputs": [],
   "source": [
    "vector_store = FAISS.from_documents(lc_docs, embedding=OpenCLIPEmbeddings())"
   ]
  },
  {
   "cell_type": "code",
   "execution_count": 4,
   "metadata": {},
   "outputs": [],
   "source": [
    "retriever = vector_store.as_retriever()"
   ]
  },
  {
   "cell_type": "code",
   "execution_count": 5,
   "metadata": {},
   "outputs": [
    {
     "name": "stdout",
     "output_type": "stream",
     "text": [
      "{'source': '../images/dog_5.jpeg'}\n",
      "{'source': '../images/dog_3.jpeg'}\n",
      "{'source': '../images/cat_3.jpeg'}\n",
      "{'source': '../images/dog_2.jpeg'}\n"
     ]
    }
   ],
   "source": [
    "docs = retriever.invoke(\"rottweiler\", k=4) # dog 5\n",
    "\n",
    "for doc in docs:\n",
    "    print(doc.metadata)\n",
    "    "
   ]
  },
  {
   "cell_type": "code",
   "execution_count": 6,
   "metadata": {},
   "outputs": [
    {
     "name": "stdout",
     "output_type": "stream",
     "text": [
      "{'source': '../images/dog_5.jpeg'}\n",
      "{'source': '../images/dog_3.jpeg'}\n",
      "{'source': '../images/cat_3.jpeg'}\n",
      "{'source': '../images/dog_2.jpeg'}\n"
     ]
    }
   ],
   "source": [
    "from IPython.display import Image, display\n",
    "\n",
    "docs = retriever.invoke(\"rottweiler\", k=4)  # retrieve 4 documents for \"rottweiler\"\n",
    "\n",
    "for doc in docs:\n",
    "    print(doc.metadata)\n"
   ]
  },
  {
   "cell_type": "code",
   "execution_count": 12,
   "metadata": {},
   "outputs": [
    {
     "name": "stdout",
     "output_type": "stream",
     "text": [
      "{'source': '../images/dog_5.jpeg'}\n",
      "{'source': '../images/dog_3.jpeg'}\n",
      "{'source': '../images/cat_3.jpeg'}\n",
      "{'source': '../images/dog_2.jpeg'}\n"
     ]
    }
   ],
   "source": [
    "from IPython.display import Image, display\n",
    "\n",
    "docs = retriever.invoke(\"rottweiler\", k=4)  # retrieve 4 documents for \"rottweiler\"\n",
    "\n",
    "for doc in docs:\n",
    "    # Retrieve the source path from the document metadata\n",
    "    print(doc.metadata)\n"
   ]
  },
  {
   "cell_type": "code",
   "execution_count": null,
   "metadata": {},
   "outputs": [],
   "source": []
  },
  {
   "cell_type": "code",
   "execution_count": 8,
   "metadata": {},
   "outputs": [
    {
     "name": "stdout",
     "output_type": "stream",
     "text": [
      "{'source': '../images/cat_1.jpeg'}\n",
      "{'source': '../images/cat_2.jpeg'}\n",
      "{'source': '../images/dog_2.jpeg'}\n",
      "{'source': '../images/dog_5.jpeg'}\n"
     ]
    }
   ],
   "source": [
    "docs = retriever.invoke(encode_image(\"../images/cat_1.jpeg\"), k=4) # cat 1\n",
    "\n",
    "for doc in docs:\n",
    "    print(doc.metadata)\n",
    "    "
   ]
  },
  {
   "cell_type": "code",
   "execution_count": 9,
   "metadata": {},
   "outputs": [
    {
     "name": "stdout",
     "output_type": "stream",
     "text": [
      "{'source': '../images/dog_5.jpeg'}\n",
      "{'source': '../images/dog_3.jpeg'}\n",
      "{'source': '../images/cat_4.jpeg'}\n",
      "{'source': '../images/dog_2.jpeg'}\n"
     ]
    }
   ],
   "source": [
    "docs = retriever.invoke(\"gray cat with long hair in a field\", k=4) # cat 2\n",
    "\n",
    "for doc in docs:\n",
    "    print(doc.metadata)"
   ]
  },
  {
   "cell_type": "code",
   "execution_count": 10,
   "metadata": {},
   "outputs": [
    {
     "name": "stdout",
     "output_type": "stream",
     "text": [
      "{'source': '../images/dog_2.jpeg'}\n",
      "{'source': '../images/dog_3.jpeg'}\n",
      "{'source': '../images/cat_3.jpeg'}\n",
      "{'source': '../images/dog_5.jpeg'}\n"
     ]
    }
   ],
   "source": [
    "docs = retriever.invoke(\"golden retriever playing with orange ball\", k=4) # dog 2\n",
    "\n",
    "for doc in docs:\n",
    "    print(doc.metadata)\n",
    "    "
   ]
  },
  {
   "cell_type": "code",
   "execution_count": 11,
   "metadata": {},
   "outputs": [
    {
     "name": "stdout",
     "output_type": "stream",
     "text": [
      "{'source': '../images/cat_3.jpeg'}\n",
      "{'source': '../images/dog_3.jpeg'}\n",
      "{'source': '../images/dog_2.jpeg'}\n",
      "{'source': '../images/dog_5.jpeg'}\n"
     ]
    }
   ],
   "source": [
    "docs = retriever.invoke(\"golden retriever in field with a sunny blurred background\", k=4) # dog 4\n",
    "\n",
    "for doc in docs:\n",
    "    print(doc.metadata)\n",
    "    "
   ]
  },
  {
   "cell_type": "code",
   "execution_count": null,
   "metadata": {},
   "outputs": [],
   "source": []
  },
  {
   "cell_type": "code",
   "execution_count": null,
   "metadata": {},
   "outputs": [],
   "source": []
  },
  {
   "cell_type": "code",
   "execution_count": null,
   "metadata": {},
   "outputs": [],
   "source": []
  },
  {
   "cell_type": "code",
   "execution_count": null,
   "metadata": {},
   "outputs": [],
   "source": []
  }
 ],
 "metadata": {
  "kernelspec": {
   "display_name": "Python 3 (ipykernel)",
   "language": "python",
   "name": "python3"
  },
  "language_info": {
   "codemirror_mode": {
    "name": "ipython",
    "version": 3
   },
   "file_extension": ".py",
   "mimetype": "text/x-python",
   "name": "python",
   "nbconvert_exporter": "python",
   "pygments_lexer": "ipython3",
   "version": "3.12.7"
  }
 },
 "nbformat": 4,
 "nbformat_minor": 4
}
